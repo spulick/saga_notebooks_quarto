{
 "cells": [
  {
   "cell_type": "code",
   "execution_count": 1,
   "metadata": {},
   "outputs": [],
   "source": [
    "import pandas as pd\n",
    "import geopandas as gpd\n",
    "import shapely"
   ]
  },
  {
   "cell_type": "code",
   "execution_count": 129,
   "metadata": {},
   "outputs": [],
   "source": [
    "approved = pd.read_csv(\"approved power stations.csv\", dtype={\"Postcode\": int})\n",
    "lga_poas = pd.read_csv(\"lga_poas.csv\")\n",
    "#committed = pd.read_csv(\"./Data/committed power stations.csv\", dtype={\"Postcode\": str})"
   ]
  },
  {
   "cell_type": "code",
   "execution_count": 103,
   "metadata": {},
   "outputs": [],
   "source": [
    "#pos = gpd.read_file(\"POA_2021_AUST_GDA2020_SHP.zip\")\n",
    "#pos = pos[[\"POA_CODE21\", \"geometry\"]]\n",
    "\n",
    "#pos = pos[~pos[\"geometry\"].isna()]"
   ]
  },
  {
   "cell_type": "code",
   "execution_count": 104,
   "metadata": {},
   "outputs": [],
   "source": [
    "#pos.geometry = pos.geometry.set_precision(grid_size=0.001)"
   ]
  },
  {
   "cell_type": "code",
   "execution_count": 34,
   "metadata": {},
   "outputs": [],
   "source": [
    "#approved = approved.merge(pos, left_on=\"Postcode\", right_on=\"POA_CODE21\", how=\"left\")\n",
    "#committed = committed.merge(pos, left_on=\"Postcode\", right_on=\"POA_CODE21\", how=\"left\")"
   ]
  },
  {
   "cell_type": "code",
   "execution_count": 130,
   "metadata": {},
   "outputs": [],
   "source": [
    "approved = approved.merge(lga_poas, left_on=\"Postcode\", right_on=\"POA_CODE21\", how=\"left\")"
   ]
  },
  {
   "cell_type": "code",
   "execution_count": 131,
   "metadata": {},
   "outputs": [],
   "source": [
    "approved = approved.groupby(\"LGA_CODE24\").agg({\"Installed capacity (MW)\": \"sum\"}).reset_index()"
   ]
  },
  {
   "cell_type": "code",
   "execution_count": 132,
   "metadata": {},
   "outputs": [],
   "source": [
    "approved[\"capacity\"] = approved[\"Installed capacity (MW)\"]"
   ]
  },
  {
   "cell_type": "code",
   "execution_count": 112,
   "metadata": {},
   "outputs": [],
   "source": [
    "import math"
   ]
  },
  {
   "cell_type": "code",
   "execution_count": 133,
   "metadata": {},
   "outputs": [],
   "source": [
    "approved[\"logCap\"] = approved[\"capacity\"].apply(lambda x: math.log(x*100, 10))"
   ]
  },
  {
   "cell_type": "code",
   "execution_count": 134,
   "metadata": {},
   "outputs": [
    {
     "data": {
      "text/plain": [
       "<Axes: ylabel='Frequency'>"
      ]
     },
     "execution_count": 134,
     "metadata": {},
     "output_type": "execute_result"
    },
    {
     "data": {
      "image/png": "[encoded data removed]",
      "text/plain": [
       "<Figure size 640x480 with 1 Axes>"
      ]
     },
     "metadata": {},
     "output_type": "display_data"
    }
   ],
   "source": [
    "approved.logCap.plot.hist(bins=10)"
   ]
  },
  {
   "cell_type": "code",
   "execution_count": 135,
   "metadata": {},
   "outputs": [],
   "source": [
    "local_govs = gpd.read_file(\"LGA_2024_AUST_GDA2020.zip\")"
   ]
  },
  {
   "cell_type": "code",
   "execution_count": 136,
   "metadata": {},
   "outputs": [],
   "source": [
    "local_govs = local_govs[[\"LGA_CODE24\", \"LGA_NAME24\", \"STE_NAME21\", \"geometry\"]]\n",
    "local_govs = local_govs[~local_govs[\"geometry\"].isna()]\n",
    "\n",
    "local_govs[\"LGA_CODE24\"] = local_govs[\"LGA_CODE24\"].astype(int)"
   ]
  },
  {
   "cell_type": "code",
   "execution_count": 137,
   "metadata": {},
   "outputs": [],
   "source": [
    "local_govs.geometry = local_govs.geometry.set_precision(grid_size=0.001)"
   ]
  },
  {
   "cell_type": "code",
   "execution_count": 138,
   "metadata": {},
   "outputs": [],
   "source": [
    "approved = approved.merge(local_govs, left_on=\"LGA_CODE24\", right_on=\"LGA_CODE24\", how=\"left\")"
   ]
  },
  {
   "cell_type": "code",
   "execution_count": 139,
   "metadata": {},
   "outputs": [],
   "source": [
    "approved = gpd.GeoDataFrame(approved, geometry=\"geometry\")"
   ]
  },
  {
   "cell_type": "code",
   "execution_count": 140,
   "metadata": {},
   "outputs": [],
   "source": [
    "approved.to_csv(\"approved_sum.csv\", index=False)"
   ]
  },
  {
   "cell_type": "code",
   "execution_count": 141,
   "metadata": {},
   "outputs": [],
   "source": [
    "approved = approved.to_json(show_bbox=True, to_wgs84=True)\n",
    "\n",
    "import json\n",
    "\n",
    "with open(\"approved_sum.json\", \"w\") as f:\n",
    "    f.write(approved)"
   ]
  },
  {
   "cell_type": "code",
   "execution_count": null,
   "metadata": {},
   "outputs": [],
   "source": []
  },
  {
   "cell_type": "code",
   "execution_count": 16,
   "metadata": {},
   "outputs": [],
   "source": [
    "local_govs.to_csv(\"local_govs.csv\", index=False)"
   ]
  },
  {
   "cell_type": "code",
   "execution_count": 17,
   "metadata": {},
   "outputs": [],
   "source": [
    "local_govs = local_govs.to_json(show_bbox=True, to_wgs84=True)\n",
    "\n",
    "with open(\"local_govs.json\", \"w\") as f:\n",
    "    f.write(local_govs)"
   ]
  },
  {
   "cell_type": "code",
   "execution_count": null,
   "metadata": {},
   "outputs": [],
   "source": []
  },
  {
   "cell_type": "markdown",
   "metadata": {},
   "source": [
    "LGA - POA "
   ]
  },
  {
   "cell_type": "code",
   "execution_count": 84,
   "metadata": {},
   "outputs": [],
   "source": [
    "lgas = gpd.read_file(\"LGA_2024_AUST_GDA2020.zip\")\n",
    "poas = gpd.read_file(\"POA_2021_AUST_GDA2020_SHP.zip\")"
   ]
  },
  {
   "cell_type": "code",
   "execution_count": 85,
   "metadata": {},
   "outputs": [],
   "source": [
    "lgas = lgas[~lgas[\"geometry\"].isna()]\n",
    "poas = poas[~poas[\"geometry\"].isna()]"
   ]
  },
  {
   "cell_type": "code",
   "execution_count": 71,
   "metadata": {},
   "outputs": [
    {
     "name": "stderr",
     "output_type": "stream",
     "text": [
      "/tmp/ipykernel_15823/2378352242.py:1: UserWarning: Geometry is in a geographic CRS. Results from 'area' are likely incorrect. Use 'GeoSeries.to_crs()' to re-project geometries to a projected CRS before this operation.\n",
      "\n",
      "  poas[\"area\"] = poas[\"geometry\"].to_crs(\"EPSG:7843\").area\n",
      "/home/spulick/miniforge3/envs/web/lib/python3.13/site-packages/geopandas/geodataframe.py:1819: SettingWithCopyWarning: \n",
      "A value is trying to be set on a copy of a slice from a DataFrame.\n",
      "Try using .loc[row_indexer,col_indexer] = value instead\n",
      "\n",
      "See the caveats in the documentation: https://pandas.pydata.org/pandas-docs/stable/user_guide/indexing.html#returning-a-view-versus-a-copy\n",
      "  super().__setitem__(key, value)\n"
     ]
    }
   ],
   "source": [
    "poas[\"area\"] = poas[\"geometry\"].to_crs(\"EPSG:7843\").area\n",
    "poas[\"lgas\"] = poas[\"geometry\"].apply(lambda x: lgas[lgas[\"geometry\"].overlaps(x)][\"LGA_CODE24\"].values)"
   ]
  },
  {
   "cell_type": "code",
   "execution_count": 86,
   "metadata": {},
   "outputs": [
    {
     "name": "stderr",
     "output_type": "stream",
     "text": [
      "/tmp/ipykernel_15823/3703981172.py:1: UserWarning: `keep_geom_type=True` in overlay resulted in 303 dropped geometries of different geometry types than df1 has. Set `keep_geom_type=False` to retain all geometries\n",
      "  intersects = gpd.overlay(poas, lgas, how=\"intersection\")\n"
     ]
    }
   ],
   "source": [
    "intersects = gpd.overlay(poas, lgas, how=\"intersection\")"
   ]
  },
  {
   "cell_type": "code",
   "execution_count": 91,
   "metadata": {},
   "outputs": [
    {
     "name": "stderr",
     "output_type": "stream",
     "text": [
      "/tmp/ipykernel_15823/2899470481.py:1: UserWarning: Geometry is in a geographic CRS. Results from 'area' are likely incorrect. Use 'GeoSeries.to_crs()' to re-project geometries to a projected CRS before this operation.\n",
      "\n",
      "  intersects[\"new_area\"] = intersects[\"geometry\"].to_crs(\"EPSG:7843\").area\n"
     ]
    }
   ],
   "source": [
    "intersects[\"new_area\"] = intersects[\"geometry\"].to_crs(\"EPSG:7843\").area"
   ]
  },
  {
   "cell_type": "code",
   "execution_count": 92,
   "metadata": {},
   "outputs": [],
   "source": [
    "intersects.sort_values(by = \"new_area\", inplace=True)"
   ]
  },
  {
   "cell_type": "code",
   "execution_count": 93,
   "metadata": {},
   "outputs": [],
   "source": [
    "intersects.drop_duplicates(subset=\"POA_CODE21\", keep=\"first\", inplace=True)"
   ]
  },
  {
   "cell_type": "code",
   "execution_count": 96,
   "metadata": {},
   "outputs": [],
   "source": [
    "intersects.sort_values(by = \"POA_CODE21\", inplace=True)"
   ]
  },
  {
   "cell_type": "code",
   "execution_count": 98,
   "metadata": {},
   "outputs": [],
   "source": [
    "lga_poas = intersects[[\"POA_CODE21\", \"LGA_CODE24\"]]"
   ]
  },
  {
   "cell_type": "code",
   "execution_count": 100,
   "metadata": {},
   "outputs": [],
   "source": [
    "lga_poas.to_csv(\"lga_poas.csv\", index=False)"
   ]
  },
  {
   "cell_type": "code",
   "execution_count": null,
   "metadata": {},
   "outputs": [],
   "source": []
  }
 ],
 "metadata": {
  "kernelspec": {
   "display_name": "web",
   "language": "python",
   "name": "python3"
  },
  "language_info": {
   "codemirror_mode": {
    "name": "ipython",
    "version": 3
   },
   "file_extension": ".py",
   "mimetype": "text/x-python",
   "name": "python",
   "nbconvert_exporter": "python",
   "pygments_lexer": "ipython3",
   "version": "3.13.0"
  }
 },
 "nbformat": 4,
 "nbformat_minor": 2
}
